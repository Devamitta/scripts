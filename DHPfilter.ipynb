{
 "cells": [
  {
   "cell_type": "code",
   "execution_count": null,
   "metadata": {},
   "outputs": [],
   "source": [
    "import pandas as pd\n",
    "\n",
    "df = pd.read_csv(\"/home/deva/Documents/dps/spreadsheets/dps-full.csv\", sep=\"\\t\", dtype= str)\n",
    "df.fillna(\"\", inplace=True)"
   ]
  },
  {
   "cell_type": "code",
   "execution_count": null,
   "metadata": {},
   "outputs": [],
   "source": [
    "# change Meaning in native language\n",
    "test1 = df['Pāli1'] != \"\"\n",
    "filter = test1\n",
    "df.loc[filter, ['Meaning in native language']] = \"\""
   ]
  },
  {
   "cell_type": "code",
   "execution_count": null,
   "metadata": {},
   "outputs": [],
   "source": [
    "# change Test\n",
    "filter = test1\n",
    "df.loc[filter, ['Test']] = \"3\""
   ]
  },
  {
   "cell_type": "code",
   "execution_count": null,
   "metadata": {},
   "outputs": [],
   "source": [
    "# filter all DHP from Source1\n",
    "test2 = df['Source1'].str.contains('DHP')\n",
    "test3 = df['Sutta1'].str.contains('vaggo')\n",
    "filter = test2 & test3\n",
    "df_DHP1 = df.loc[filter]"
   ]
  },
  {
   "cell_type": "code",
   "execution_count": null,
   "metadata": {},
   "outputs": [],
   "source": [
    "# filter all DHP from Source2\n",
    "test4 = df['Source 2'].str.contains('DHP')\n",
    "test5 = df['Sutta2'].str.contains('vaggo')\n",
    "filter = test4 & test5\n",
    "df_DHP2 = df.loc[filter]"
   ]
  },
  {
   "cell_type": "code",
   "execution_count": null,
   "metadata": {},
   "outputs": [],
   "source": [
    "# if headword from df2 is in df1, then delete whole row from df2\n",
    "\n",
    "logix = df_DHP2['Pāli1'].isin(df_DHP1['Pāli1'])\n",
    "\n",
    "# df_DHP3 = df_DHP2[logix]\n",
    "df_DHP4 = df_DHP2.drop(df_DHP2[logix].index)"
   ]
  },
  {
   "cell_type": "code",
   "execution_count": null,
   "metadata": {},
   "outputs": [],
   "source": [
    "# move examples from 2 to 1\n",
    "# df_DHP4[\"Source1\"] = df_DHP4[\"Source 2\"]\n",
    "# df_DHP4[\"Sutta1\"] = df_DHP4[\"Sutta2\"]\n",
    "# df_DHP4[\"Example1\"] = df_DHP4[\"Example 2\"]"
   ]
  },
  {
   "cell_type": "code",
   "execution_count": null,
   "metadata": {},
   "outputs": [],
   "source": [
    "# combine two DHP lists\n",
    "# df_combined = df_DHP1 + df_DHP3 + df_DHP4\n",
    "df_combined = df_DHP1.append(df_DHP4)\n",
    "# df_combined_final = df_combined.append(df_DHP4)\n",
    "\n",
    "# make source 2 sutta 2 example 2 empty\n",
    "# filter = test1\n",
    "# df_combined.loc[filter, ['Source 2']] = \"\"\n",
    "# df_combined.loc[filter, ['Sutta2']] = \"\"\n",
    "# df_combined.loc[filter, ['Example 2']] = \"\"\n",
    "\n",
    "df_combined.sort_values(by=\"Pāli1\")"
   ]
  },
  {
   "cell_type": "code",
   "execution_count": null,
   "metadata": {},
   "outputs": [],
   "source": [
    "# remove duplicates with SBS chanting book\n",
    "# test5 = ~df_combined['Fin'].str.contains('s')\n",
    "# filter = test5\n",
    "# df_final = df_combined.loc[filter]"
   ]
  },
  {
   "cell_type": "code",
   "execution_count": null,
   "metadata": {},
   "outputs": [],
   "source": [
    "# choosing order of columns\n",
    "\n",
    "df_combined = df_combined[['Pāli1', 'POS', 'Grammar', 'Derived from', 'Neg', \n",
    "       'Verb', 'Trans', 'Case', 'Meaning IN CONTEXT', 'Meaning in native language', 'Pāli Root', 'Base',  \n",
    "       'Construction', 'Sanskrit', 'Sk Root', \n",
    "       'Variant', 'Commentary', 'Notes', \n",
    "       'Source1', 'Sutta1', 'Example1', 'Source 2', 'Sutta2', 'Example 2', 'Test']]\n"
   ]
  },
  {
   "cell_type": "code",
   "execution_count": null,
   "metadata": {},
   "outputs": [],
   "source": [
    "# # save csv\n",
    "# df_final.to_csv(\"/home/deva/Documents/dps/spreadsheets/dhp(s)_bold.csv\", sep=\"\\t\", index=None)"
   ]
  },
  {
   "cell_type": "code",
   "execution_count": null,
   "metadata": {},
   "outputs": [],
   "source": [
    "# save csv\n",
    "df_combined.to_csv(\"/home/deva/Documents/dps/spreadsheets/dhp_bold.csv\", sep=\"\\t\", index=None)"
   ]
  }
 ],
 "metadata": {
  "interpreter": {
   "hash": "aee8b7b246df8f9039afb4144a1f6fd8d2ca17a180786b69acc140d282b71a49"
  },
  "kernelspec": {
   "display_name": "Python 3.10.2 64-bit",
   "language": "python",
   "name": "python3"
  },
  "language_info": {
   "codemirror_mode": {
    "name": "ipython",
    "version": 3
   },
   "file_extension": ".py",
   "mimetype": "text/x-python",
   "name": "python",
   "nbconvert_exporter": "python",
   "pygments_lexer": "ipython3",
   "version": "3.10.2"
  }
 },
 "nbformat": 4,
 "nbformat_minor": 2
}
