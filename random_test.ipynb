{
 "cells": [
  {
   "cell_type": "code",
   "execution_count": 149,
   "metadata": {},
   "outputs": [],
   "source": [
    "import pandas as pd\n",
    "import random\n",
    "\n",
    "df = pd.read_csv(\"/home/deva/Documents/dps/spreadsheets/dps-full.csv\", sep=\"\\t\", dtype= str)\n",
    "df.fillna(\"\", inplace=True)"
   ]
  },
  {
   "cell_type": "code",
   "execution_count": 150,
   "metadata": {},
   "outputs": [],
   "source": [
    "# change Meaning in native language\n",
    "test1 = df['Pāli1'] != \"\"\n",
    "filter = test1\n",
    "df.loc[filter, ['Meaning in native language']] = \"\""
   ]
  },
  {
   "cell_type": "code",
   "execution_count": 151,
   "metadata": {},
   "outputs": [],
   "source": [
    "ran = random.sample(range(1, 100), 1)\n",
    "ran = str(ran[0])"
   ]
  },
  {
   "cell_type": "code",
   "execution_count": 152,
   "metadata": {},
   "outputs": [],
   "source": [
    "# change Test\n",
    "test1 = df['Pāli1'] != \"\"\n",
    "filter = test1\n",
    "df.loc[filter, ['Test']] = ran"
   ]
  },
  {
   "cell_type": "code",
   "execution_count": 154,
   "metadata": {},
   "outputs": [],
   "source": [
    "# make Feedback\n",
    "df.insert(39, 'Feedback', \"<a href=\\\"https://docs.google.com/forms/d/e/1FAIpQLScNC5v2gQbBCM3giXfYIib9zrp-WMzwJuf_iVXEMX2re4BFFw/viewform?usp=pp_url&entry.438735500=\"+df['Pāli1']+\"\\\">feedback</a>\")"
   ]
  },
  {
   "cell_type": "code",
   "execution_count": 155,
   "metadata": {},
   "outputs": [],
   "source": [
    "# make double tags\n",
    "df.insert(40, 'Tags', None)\n",
    "\n",
    "df[\"Tags\"] = df[\"Pali chant 2\"]\n",
    "\n",
    "test3 = df['Pali chant 3'] != \"\"\n",
    "filter = test3\n",
    "df.loc[filter, ['Tags']] = df['Pali chant 2'] + \" \" + df['Pali chant 3']"
   ]
  },
  {
   "cell_type": "code",
   "execution_count": 156,
   "metadata": {},
   "outputs": [],
   "source": [
    "# sort by Index\n",
    "df = df.sort_values(by=['Index', 'Example 2'])"
   ]
  },
  {
   "cell_type": "code",
   "execution_count": 157,
   "metadata": {},
   "outputs": [],
   "source": [
    "# save csv\n",
    "df.to_csv(\"/home/deva/Documents/dps/spreadsheets/sbs-pd.csv\", sep=\"\\t\", index=None)\n"
   ]
  },
  {
   "cell_type": "code",
   "execution_count": 158,
   "metadata": {},
   "outputs": [],
   "source": [
    "import markdown\n",
    "result_markdown = markdown.markdown(f\"\"\"\n",
    "# DHP Vocab\n",
    "\n",
    "UNDER DEVELOPMENT\n",
    "\n",
    "Made for memorization of words from DHP. It is available for public testing and [feedback](https://docs.google.com/forms/d/e/1FAIpQLSf9boBe7k5tCwq7LdWgBHHGIPVc4ROO5yjVDo1X5LDAxkmGWQ/viewform?usp=pp_url&amp;entry.1433863141=DHP). Be sure to regularly download the latest content here.\n",
    "\n",
    "This tool is recommended to use together with the [DHP grammatical analysis](https://buddhism.lib.ntu.edu.tw/DLMBS/en/lesson/pali/lesson_pali3.jsp)\n",
    "\n",
    "- **[Download the latest update](https://github.com/sasanarakkha/study-tools/raw/main/Anki_Decks/DHP_Vocab/DHP%20vocab.apkg)**\n",
    "\n",
    "- Install [Anki](https://apps.ankiweb.net/)\n",
    "\n",
    "- Double-click on the downloaded file SBS Pāli-English Vocab.apkg, and it will appear in your Anki.\n",
    "\n",
    "# Recomended way of studying this deck:\n",
    "\n",
    "- first read some vagga from DHP in the Pāli and in [the analysis](https://buddhism.lib.ntu.edu.tw/DLMBS/en/lesson/pali/lesson_pali3.jsp)\n",
    "\n",
    "- in Anki go to **Browse**\n",
    "\n",
    "![2022-04-17_20-04](https://user-images.githubusercontent.com/39419221/163944779-ad73b9a5-4478-410c-abf6-466e03b9b777.png)\n",
    "\n",
    "- Select deck **DHP Vocab** in the left panel\n",
    "- Select all card by **Ctrl + A**\n",
    "- Right click and choose **Toggle Suspend** (Ctrl + J)\n",
    "\n",
    "Now all cards are inactive for study.\n",
    "\n",
    "![2022-04-19_15-03](https://user-images.githubusercontent.com/39419221/163945216-713c1d2e-ce3f-4f28-ac49-93e7fdb56033.png)\n",
    "\n",
    "\n",
    "- Select deck **DHP Vocab** in the left panel\n",
    "- Select vagga by searching name of the vagga (e.g. appamādavaggo) in this deck\n",
    "- Select all card by **Ctrl + A**\n",
    "- Right click and choose **Toggle Suspend** (Ctrl + J) \n",
    "\n",
    "\n",
    "Now all cards from selected vagga will appear in your Anki daily routine. After you finish them, you may repeat the process with another vagga and so on.\n",
    "\n",
    "\n",
    "# Update existing deck with keeping statistic\n",
    "\n",
    "This work is based on the [DPD](https://digitalpalidictionary.github.io/) which is the work in progress and updating regularly. Because of this, time after time may be added or edited some words (for example: the word 'pada' become 'pada 1', because has been found another meaning of this word in another context). We need time after time to remove those duplicated words, which are not existing any more. For this reason, we have a field **\"Test\"**\n",
    "After you updated your Anki Deck (same way, just by double-clicking on the latest downloaded file). In **Browse** type:\n",
    "\n",
    "`\"deck:DHP vocab\" -test:`{ran}\n",
    "\n",
    "It will show all cards which do not have number '{ran}' in field \"Test\". And you can easily delate all of this old words, by selecting all (**Ctrl + A**) and deleting (**Ctrl + Delete**). \n",
    "\n",
    "Now you are up-to-date.\n",
    "\n",
    "With every next update, this 'test number' will be different.\n",
    "\n",
    "- If English is not your first language, it is always recommended to translate words to your native language. For this, we have empty field \"native\". You can feel it. And even with next update, this field still will keep all your info.\n",
    "\"\"\")\n",
    "\n",
    "with open('/home/deva/Documents/sasanarakkha/study-tools/Anki_Decks/DHP_Vocab/DHP_Vocab.md', 'w') as f:\n",
    "    f.write(result_markdown)\n",
    "f.close()\n"
   ]
  }
 ],
 "metadata": {
  "interpreter": {
   "hash": "aee8b7b246df8f9039afb4144a1f6fd8d2ca17a180786b69acc140d282b71a49"
  },
  "kernelspec": {
   "display_name": "Python 3.10.2 64-bit",
   "language": "python",
   "name": "python3"
  },
  "language_info": {
   "codemirror_mode": {
    "name": "ipython",
    "version": 3
   },
   "file_extension": ".py",
   "mimetype": "text/x-python",
   "name": "python",
   "nbconvert_exporter": "python",
   "pygments_lexer": "ipython3",
   "version": "3.10.2"
  }
 },
 "nbformat": 4,
 "nbformat_minor": 2
}
