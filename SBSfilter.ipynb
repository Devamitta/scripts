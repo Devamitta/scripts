{
 "cells": [
  {
   "cell_type": "code",
   "execution_count": 36,
   "metadata": {},
   "outputs": [],
   "source": [
    "import pandas as pd\n",
    "\n",
    "df = pd.read_csv(\"/home/deva/Documents/dps/spreadsheets/dps-vocab.csv\", sep=\"\\t\", dtype= str)\n",
    "df.fillna(\"\", inplace=True)"
   ]
  },
  {
   "cell_type": "code",
   "execution_count": 37,
   "metadata": {},
   "outputs": [],
   "source": [
    "# change Meaning in native language\n",
    "test1 = df['Pāli1'] != \"\"\n",
    "filter = test1\n",
    "df.loc[filter, ['Meaning in native language']] = \"\""
   ]
  },
  {
   "cell_type": "code",
   "execution_count": 38,
   "metadata": {},
   "outputs": [],
   "source": [
    "# change Test\n",
    "filter = test1\n",
    "df.loc[filter, ['Test']] = \"3\""
   ]
  },
  {
   "cell_type": "code",
   "execution_count": 39,
   "metadata": {},
   "outputs": [],
   "source": [
    "# filter all SBS words\n",
    "test2 = df['Fin'].str.contains('s')\n",
    "filter = test2\n",
    "df = df.loc[filter]"
   ]
  },
  {
   "cell_type": "code",
   "execution_count": 40,
   "metadata": {},
   "outputs": [],
   "source": [
    "# choosing order of columns\n",
    "\n",
    "df = df[['Pāli1', 'POS', 'Grammar', 'Derived from', 'Neg', \n",
    "       'Verb', 'Trans', 'Case', 'Meaning IN CONTEXT', 'Meaning in native language', 'Pāli Root', 'Base',  \n",
    "       'Construction', 'Sanskrit', 'Sk Root', \n",
    "       'Variant', 'Commentary', 'Notes', \n",
    "       'Source1', 'Sutta1', 'Example1', 'Source 2', 'Sutta2', 'Example 2',\n",
    "       'Chapter', 'Test']]\n",
    "\n",
    "# save csv\n",
    "df.to_csv(\"/home/deva/Documents/dps/spreadsheets/sbs_bold.csv\", sep=\"\\t\", index=None)\n"
   ]
  }
 ],
 "metadata": {
  "interpreter": {
   "hash": "8a94588eda9d64d9e9a351ab8144e55b1fabf5113b54e67dd26a8c27df0381b3"
  },
  "kernelspec": {
   "display_name": "Python 3 (ipykernel)",
   "language": "python",
   "name": "python3"
  },
  "language_info": {
   "codemirror_mode": {
    "name": "ipython",
    "version": 3
   },
   "file_extension": ".py",
   "mimetype": "text/x-python",
   "name": "python",
   "nbconvert_exporter": "python",
   "pygments_lexer": "ipython3",
   "version": "3.10.2"
  }
 },
 "nbformat": 4,
 "nbformat_minor": 2
}
