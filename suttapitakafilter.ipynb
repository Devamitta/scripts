{
 "cells": [
  {
   "cell_type": "code",
   "execution_count": 15,
   "metadata": {},
   "outputs": [],
   "source": [
    "import pandas as pd\n",
    "\n",
    "df = pd.read_csv(\n",
    "    \"../spreadsheets/dps-full.csv\", sep=\"\\t\", dtype=str)\n",
    "df.fillna(\"\", inplace=True)\n"
   ]
  },
  {
   "cell_type": "code",
   "execution_count": 16,
   "metadata": {},
   "outputs": [],
   "source": [
    "# change Meaning in native language\n",
    "test1 = df['Pāli1'] != \"\"\n",
    "filter = test1\n",
    "df.loc[filter, ['Meaning in native language']] = \"\"\n"
   ]
  },
  {
   "cell_type": "code",
   "execution_count": 17,
   "metadata": {},
   "outputs": [],
   "source": [
    "# change Test\n",
    "test1 = df['Pāli1'] != \"\"\n",
    "filter = test1\n",
    "df.loc[filter, ['Test']] = \"99\"\n"
   ]
  },
  {
   "cell_type": "code",
   "execution_count": 18,
   "metadata": {},
   "outputs": [],
   "source": [
    "# remove all SBS words\n",
    "test2 = ~df['Fin'].str.contains('s')\n",
    "filter = test2\n",
    "df = df.loc[filter]\n"
   ]
  },
  {
   "cell_type": "code",
   "execution_count": 19,
   "metadata": {},
   "outputs": [],
   "source": [
    "# replace all sutta numbers with '_'\n",
    "df['Source1'] = df['Source1'].str.replace(' ', '_')\n",
    "df['Source 2'] = df['Source 2'].str.replace(' ', '_')\n",
    "\n",
    "# # save csv\n",
    "# df.to_csv(\"../spreadsheets/withoutSBS.csv\", sep=\"\\t\", index=None)\n"
   ]
  },
  {
   "cell_type": "code",
   "execution_count": 20,
   "metadata": {},
   "outputs": [
    {
     "name": "stderr",
     "output_type": "stream",
     "text": [
      "/tmp/ipykernel_35654/2693687674.py:2: UserWarning: This pattern is interpreted as a regular expression, and has match groups. To actually get the groups, use str.extract.\n",
      "  test3 = df['Source1'].str.contains('MN_|SN_|(^AN_)')\n",
      "/tmp/ipykernel_35654/2693687674.py:3: UserWarning: This pattern is interpreted as a regular expression, and has match groups. To actually get the groups, use str.extract.\n",
      "  test4 = df['Source 2'].str.contains('MN_|SN_|(^AN_)')\n"
     ]
    }
   ],
   "source": [
    "# filter all AN, MN, SN\n",
    "test3 = df['Source1'].str.contains('MN_|SN_|(^AN_)')\n",
    "test4 = df['Source 2'].str.contains('MN_|SN_|(^AN_)')\n",
    "filter = test3\n",
    "df1 = df.loc[filter]\n",
    "filter = test4\n",
    "df2 = df.loc[filter]\n"
   ]
  },
  {
   "cell_type": "code",
   "execution_count": 21,
   "metadata": {},
   "outputs": [],
   "source": [
    "# if headword from df2 is in df1, then delete whole row from df2\n",
    "\n",
    "logix = df2['Pāli1'].isin(df1['Pāli1'])\n",
    "\n",
    "df2 = df2.drop(df2[logix].index)\n"
   ]
  },
  {
   "cell_type": "code",
   "execution_count": 22,
   "metadata": {},
   "outputs": [],
   "source": [
    "# move examples from 2 to 1\n",
    "df2[\"Source1\"] = df2[\"Source 2\"]\n",
    "df2[\"Sutta1\"] = df2[\"Sutta2\"]\n",
    "df2[\"Example1\"] = df2[\"Example 2\"]\n"
   ]
  },
  {
   "cell_type": "code",
   "execution_count": 23,
   "metadata": {},
   "outputs": [],
   "source": [
    "# combine two lists\n",
    "# df = df1.append(df2)\n",
    "df_combined = pd.concat([df1, df2])\n"
   ]
  },
  {
   "cell_type": "code",
   "execution_count": 24,
   "metadata": {},
   "outputs": [],
   "source": [
    "# make Feedback\n",
    "# df.insert(39, 'Feedback', \"<a href=\\\"https://docs.google.com/forms/d/e/1FAIpQLScNC5v2gQbBCM3giXfYIib9zrp-WMzwJuf_iVXEMX2re4BFFw/viewform?usp=pp_url&entry.438735500=\" +\n",
    "#           df['Pāli1']+\"\\\">feedback</a>\")\n"
   ]
  },
  {
   "cell_type": "code",
   "execution_count": 25,
   "metadata": {},
   "outputs": [],
   "source": [
    "# adding feedback\n",
    "df.reset_index(drop=True, inplace=True)\n",
    "df['Feedback'] = f\"\"\"Spot a mistake? <a class=\"link\" href=\"https://docs.google.com/forms/d/e/1FAIpQLScNC5v2gQbBCM3giXfYIib9zrp-WMzwJuf_iVXEMX2re4BFFw/viewform?usp=pp_url&entry.438735500=\"\"\" + \\\n",
    "    df.Pāli1 + \"\"\"&entry.1433863141=Anki\">Fix it here</a>.\"\"\"\n"
   ]
  },
  {
   "cell_type": "code",
   "execution_count": 26,
   "metadata": {},
   "outputs": [],
   "source": [
    "# make double tags\n",
    "df.insert(40, 'Tags', None)\n",
    "\n",
    "df[\"Tags\"] = df[\"Source1\"]\n",
    "\n",
    "# test3 = df['Sutta2'] != \"\"\n",
    "# filter = test3\n",
    "# df.loc[filter, ['Tags']] = df['Sutta1'] + \" \" + df['Sutta2']\n"
   ]
  },
  {
   "cell_type": "code",
   "execution_count": 27,
   "metadata": {},
   "outputs": [],
   "source": [
    "# sort\n",
    "df = df.sort_values(by=['Source1', 'Example1'])\n"
   ]
  },
  {
   "cell_type": "code",
   "execution_count": 28,
   "metadata": {},
   "outputs": [],
   "source": [
    "# save csv\n",
    "df.to_csv(\"../spreadsheets/suttapitaka.csv\",\n",
    "          sep=\"\\t\", index=None)\n"
   ]
  }
 ],
 "metadata": {
  "interpreter": {
   "hash": "aee8b7b246df8f9039afb4144a1f6fd8d2ca17a180786b69acc140d282b71a49"
  },
  "kernelspec": {
   "display_name": "Python 3.10.2 64-bit",
   "language": "python",
   "name": "python3"
  },
  "language_info": {
   "codemirror_mode": {
    "name": "ipython",
    "version": 3
   },
   "file_extension": ".py",
   "mimetype": "text/x-python",
   "name": "python",
   "nbconvert_exporter": "python",
   "pygments_lexer": "ipython3",
   "version": "3.10.2"
  }
 },
 "nbformat": 4,
 "nbformat_minor": 2
}
