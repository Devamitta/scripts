{
 "cells": [
  {
   "cell_type": "code",
   "execution_count": 53,
   "metadata": {},
   "outputs": [],
   "source": [
    "import pandas as pd\n",
    "\n",
    "df = pd.read_csv(\"/home/deva/Documents/dps/spreadsheets/dps-full.csv\", sep=\"\\t\", dtype= str)\n",
    "df.fillna(\"\", inplace=True)"
   ]
  },
  {
   "cell_type": "code",
   "execution_count": 54,
   "metadata": {},
   "outputs": [],
   "source": [
    "# change Meaning in native language\n",
    "test1 = df['Pāli1'] != \"\"\n",
    "filter = test1\n",
    "df.loc[filter, ['Meaning in native language']] = \"\""
   ]
  },
  {
   "cell_type": "code",
   "execution_count": 55,
   "metadata": {},
   "outputs": [],
   "source": [
    "# change Test\n",
    "test1 = df['Pāli1'] != \"\"\n",
    "filter = test1\n",
    "df.loc[filter, ['Test']] = \"99\""
   ]
  },
  {
   "cell_type": "code",
   "execution_count": 56,
   "metadata": {},
   "outputs": [],
   "source": [
    "# remove all SBS words\n",
    "test2 = ~df['Fin'].str.contains('s')\n",
    "filter = test2\n",
    "df = df.loc[filter]\n"
   ]
  },
  {
   "cell_type": "code",
   "execution_count": 57,
   "metadata": {},
   "outputs": [],
   "source": [
    "# replace all sutta numbers with '_'\n",
    "df['Source1'] = df['Source1'].str.replace(' ', '_')\n",
    "df['Source 2'] = df['Source 2'].str.replace(' ', '_')\n",
    "\n",
    "# # save csv\n",
    "# df.to_csv(\"/home/deva/Documents/dps/spreadsheets/withoutSBS.csv\", sep=\"\\t\", index=None)\n"
   ]
  },
  {
   "cell_type": "code",
   "execution_count": 58,
   "metadata": {},
   "outputs": [
    {
     "name": "stderr",
     "output_type": "stream",
     "text": [
      "/tmp/ipykernel_25800/2693687674.py:2: UserWarning: This pattern is interpreted as a regular expression, and has match groups. To actually get the groups, use str.extract.\n",
      "  test3 = df['Source1'].str.contains('MN_|SN_|(^AN_)')\n",
      "/tmp/ipykernel_25800/2693687674.py:3: UserWarning: This pattern is interpreted as a regular expression, and has match groups. To actually get the groups, use str.extract.\n",
      "  test4 = df['Source 2'].str.contains('MN_|SN_|(^AN_)')\n"
     ]
    }
   ],
   "source": [
    "# filter all AN, MN, SN\n",
    "test3 = df['Source1'].str.contains('MN_|SN_|(^AN_)')\n",
    "test4 = df['Source 2'].str.contains('MN_|SN_|(^AN_)')\n",
    "filter = test3\n",
    "df1 = df.loc[filter]\n",
    "filter = test4\n",
    "df2 = df.loc[filter]\n"
   ]
  },
  {
   "cell_type": "code",
   "execution_count": 59,
   "metadata": {},
   "outputs": [],
   "source": [
    "# if headword from df2 is in df1, then delete whole row from df2\n",
    "\n",
    "logix = df2['Pāli1'].isin(df1['Pāli1'])\n",
    "\n",
    "df2 = df2.drop(df2[logix].index)"
   ]
  },
  {
   "cell_type": "code",
   "execution_count": 60,
   "metadata": {},
   "outputs": [],
   "source": [
    "# move examples from 2 to 1\n",
    "df2[\"Source1\"] = df2[\"Source 2\"]\n",
    "df2[\"Sutta1\"] = df2[\"Sutta2\"]\n",
    "df2[\"Example1\"] = df2[\"Example 2\"]"
   ]
  },
  {
   "cell_type": "code",
   "execution_count": 61,
   "metadata": {},
   "outputs": [
    {
     "name": "stderr",
     "output_type": "stream",
     "text": [
      "/tmp/ipykernel_25800/3055252982.py:2: FutureWarning: The frame.append method is deprecated and will be removed from pandas in a future version. Use pandas.concat instead.\n",
      "  df = df1.append(df2)\n"
     ]
    }
   ],
   "source": [
    "# combine two lists\n",
    "# df = df1.append(df2)\n",
    "df_combined = pd.concat([df1, df2])"
   ]
  },
  {
   "cell_type": "code",
   "execution_count": 62,
   "metadata": {},
   "outputs": [],
   "source": [
    "# make Feedback\n",
    "df.insert(39, 'Feedback', \"<a href=\\\"https://docs.google.com/forms/d/e/1FAIpQLScNC5v2gQbBCM3giXfYIib9zrp-WMzwJuf_iVXEMX2re4BFFw/viewform?usp=pp_url&entry.438735500=\"+df['Pāli1']+\"\\\">feedback</a>\")"
   ]
  },
  {
   "cell_type": "code",
   "execution_count": 63,
   "metadata": {},
   "outputs": [],
   "source": [
    "# make double tags\n",
    "df.insert(40, 'Tags', None)\n",
    "\n",
    "df[\"Tags\"] = df[\"Source1\"]\n",
    "\n",
    "# test3 = df['Sutta2'] != \"\"\n",
    "# filter = test3\n",
    "# df.loc[filter, ['Tags']] = df['Sutta1'] + \" \" + df['Sutta2']"
   ]
  },
  {
   "cell_type": "code",
   "execution_count": 64,
   "metadata": {},
   "outputs": [],
   "source": [
    "# sort\n",
    "df = df.sort_values(by=['Source1', 'Example1'])"
   ]
  },
  {
   "cell_type": "code",
   "execution_count": 65,
   "metadata": {},
   "outputs": [],
   "source": [
    "# save csv\n",
    "df.to_csv(\"/home/deva/Documents/dps/spreadsheets/suttapitaka.csv\", sep=\"\\t\", index=None)\n"
   ]
  }
 ],
 "metadata": {
  "interpreter": {
   "hash": "aee8b7b246df8f9039afb4144a1f6fd8d2ca17a180786b69acc140d282b71a49"
  },
  "kernelspec": {
   "display_name": "Python 3.10.2 64-bit",
   "language": "python",
   "name": "python3"
  },
  "language_info": {
   "codemirror_mode": {
    "name": "ipython",
    "version": 3
   },
   "file_extension": ".py",
   "mimetype": "text/x-python",
   "name": "python",
   "nbconvert_exporter": "python",
   "pygments_lexer": "ipython3",
   "version": "3.10.2"
  }
 },
 "nbformat": 4,
 "nbformat_minor": 2
}
