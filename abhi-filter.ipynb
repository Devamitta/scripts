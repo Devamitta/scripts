{
 "cells": [
  {
   "cell_type": "code",
   "execution_count": 1,
   "metadata": {},
   "outputs": [],
   "source": [
    "import pandas as pd\n",
    "import random\n",
    "\n",
    "df = pd.read_csv(\"../spreadsheets/dps-full.csv\", sep=\"\\t\", dtype= str)\n",
    "df.fillna(\"\", inplace=True)"
   ]
  },
  {
   "cell_type": "code",
   "execution_count": 2,
   "metadata": {},
   "outputs": [],
   "source": [
    "# # change Meaning in native language\n",
    "# test1 = df['Pāli1'] != \"\"\n",
    "# filter = test1\n",
    "# df.loc[filter, ['Meaning in native language']] = \"\""
   ]
  },
  {
   "cell_type": "code",
   "execution_count": 3,
   "metadata": {},
   "outputs": [],
   "source": [
    "# ran = random.sample(range(1, 100), 1)\n",
    "# ran = str(ran[0])"
   ]
  },
  {
   "cell_type": "code",
   "execution_count": 4,
   "metadata": {},
   "outputs": [],
   "source": [
    "# # change Test\n",
    "# test1 = df['Pāli1'] != \"\"\n",
    "# filter = test1\n",
    "# df.loc[filter, ['Test']] = ran"
   ]
  },
  {
   "cell_type": "code",
   "execution_count": 5,
   "metadata": {},
   "outputs": [],
   "source": [
    "# filter all Abhi words\n",
    "test2 = df['Source2'].str.contains('Abhi')\n",
    "filter = test2\n",
    "df = df.loc[filter]"
   ]
  },
  {
   "cell_type": "code",
   "execution_count": 6,
   "metadata": {},
   "outputs": [],
   "source": [
    "# make Feedback\n",
    "# df.insert(39, 'Feedback', \"<a href=\\\"https://docs.google.com/forms/d/e/1FAIpQLScNC5v2gQbBCM3giXfYIib9zrp-WMzwJuf_iVXEMX2re4BFFw/viewform?usp=pp_url&entry.438735500=\"+df['Pāli1']+\"\\\">feedback</a>\")"
   ]
  },
  {
   "cell_type": "code",
   "execution_count": 7,
   "metadata": {},
   "outputs": [],
   "source": [
    "# make double tags\n",
    "# df.insert(40, 'Tags', None)\n",
    "\n",
    "# df[\"Tags\"] = df[\"Pali chant 2\"]\n",
    "\n",
    "# test3 = df['Pali chant 3'] != \"\"\n",
    "# filter = test3\n",
    "# df.loc[filter, ['Tags']] = df['Pali chant 2'] + \" \" + df['Pali chant 3']"
   ]
  },
  {
   "cell_type": "code",
   "execution_count": 8,
   "metadata": {},
   "outputs": [],
   "source": [
    "# sort by Index\n",
    "# df = df.sort_values(by=['Index', 'Example2'])"
   ]
  },
  {
   "cell_type": "code",
   "execution_count": 9,
   "metadata": {},
   "outputs": [],
   "source": [
    "# choosing order of columns\n",
    "\n",
    "df = df[['Pāli1', 'POS', 'Meaning IN CONTEXT', 'Pāli Root', 'Base', 'Construction', 'Source2', 'Sutta2', 'Example2']]\n"
   ]
  },
  {
   "cell_type": "code",
   "execution_count": 10,
   "metadata": {},
   "outputs": [],
   "source": [
    "# save csv\n",
    "df.to_csv(\"../spreadsheets/abhi.csv\", sep=\"\\t\", index=None)\n"
   ]
  }
 ],
 "metadata": {
  "interpreter": {
   "hash": "aee8b7b246df8f9039afb4144a1f6fd8d2ca17a180786b69acc140d282b71a49"
  },
  "kernelspec": {
   "display_name": "Python 3.10.2 64-bit",
   "language": "python",
   "name": "python3"
  },
  "language_info": {
   "codemirror_mode": {
    "name": "ipython",
    "version": 3
   },
   "file_extension": ".py",
   "mimetype": "text/x-python",
   "name": "python",
   "nbconvert_exporter": "python",
   "pygments_lexer": "ipython3",
   "version": "3.10.2"
  }
 },
 "nbformat": 4,
 "nbformat_minor": 2
}
