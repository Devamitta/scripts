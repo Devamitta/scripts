{
 "cells": [
  {
   "cell_type": "code",
   "execution_count": null,
   "metadata": {},
   "outputs": [],
   "source": [
    "import pandas as pd\n",
    "import re\n",
    "\n",
    "df_nid = pd.read_csv(\"/home/deva/Documents/dpd/spreadsheets/nidh.csv\", sep=\"\\t\", dtype= str)\n",
    "df_nid.fillna(\"\", inplace=True)\n",
    "\n",
    "df_sbs = pd.read_csv(\"/home/deva/Documents/dps/spreadsheets/sbs-pd.csv\", sep=\"\\t\", dtype= str)\n",
    "df_sbs.fillna(\"\", inplace=True)\n",
    "\n",
    "df_ebts = pd.read_csv(\"./output-individual/ebts1000.csv\", sep=\"\\t\", dtype= str)\n",
    "df_ebts.fillna(\"\", inplace=True)"
   ]
  },
  {
   "cell_type": "code",
   "execution_count": null,
   "metadata": {},
   "outputs": [],
   "source": [
    "# removing numbers nid\n",
    "df_nid['Pāli1'] = df_nid['Pāli1'].str.replace('\\d+', '')\n",
    "df_nid['Pāli1'] = df_nid['Pāli1'].str.replace(' ', '')"
   ]
  },
  {
   "cell_type": "code",
   "execution_count": null,
   "metadata": {},
   "outputs": [],
   "source": [
    "# removing numbers sbs\n",
    "df_sbs['Pāli1'] = df_sbs['Pāli1'].str.replace('\\d+', '')\n",
    "df_sbs['Pāli1'] = df_sbs['Pāli1'].str.replace(' ', '')"
   ]
  },
  {
   "cell_type": "code",
   "execution_count": null,
   "metadata": {},
   "outputs": [],
   "source": [
    "logix = df_nid['Pāli1'].isin(df_ebts['Pāli1'])\n",
    "\n",
    "df_nid1000 = df_nid[logix]"
   ]
  },
  {
   "cell_type": "code",
   "execution_count": null,
   "metadata": {},
   "outputs": [],
   "source": [
    "logix = df_sbs['Pāli1'].isin(df_ebts['Pāli1'])\n",
    "\n",
    "df_sbs1000 = df_sbs[logix]"
   ]
  },
  {
   "cell_type": "code",
   "execution_count": null,
   "metadata": {},
   "outputs": [],
   "source": [
    "# merge frequency column\n",
    "df_final_nid = pd.merge(df_nid1000, df_ebts, how='left')\n",
    "\n",
    "df_final_sbs = pd.merge(df_sbs1000, df_ebts, how='left')"
   ]
  },
  {
   "cell_type": "code",
   "execution_count": null,
   "metadata": {},
   "outputs": [],
   "source": [
    "# save csv\n",
    "df_final_nid.to_csv(f\"./output-individual/nid-most-common-1000.csv\", sep=\"\\t\", index=None)\n",
    "\n",
    "df_final_sbs.to_csv(f\"./output-individual/sbs-most-common-1000.csv\", sep=\"\\t\", index=None)"
   ]
  }
 ],
 "metadata": {
  "kernelspec": {
   "display_name": "Python 3.10.2 64-bit",
   "language": "python",
   "name": "python3"
  },
  "language_info": {
   "codemirror_mode": {
    "name": "ipython",
    "version": 3
   },
   "file_extension": ".py",
   "mimetype": "text/x-python",
   "name": "python",
   "nbconvert_exporter": "python",
   "pygments_lexer": "ipython3",
   "version": "3.10.2"
  },
  "vscode": {
   "interpreter": {
    "hash": "aee8b7b246df8f9039afb4144a1f6fd8d2ca17a180786b69acc140d282b71a49"
   }
  }
 },
 "nbformat": 4,
 "nbformat_minor": 2
}
