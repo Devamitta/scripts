{
 "cells": [
  {
   "cell_type": "code",
   "execution_count": null,
   "metadata": {},
   "outputs": [],
   "source": [
    "import pandas as pd\n",
    "import re\n",
    "\n",
    "# df_nid = pd.read_csv(\"/home/deva/Documents/dps/pali/nidh.csv\", sep=\"\\t\", dtype= str)\n",
    "# df_nid.fillna(\"\", inplace=True)\n",
    "\n",
    "df_dps = pd.read_csv(\"/home/deva/Documents/dps/spreadsheets/dps-full.csv\", sep=\"\\t\", dtype= str)\n",
    "df_dps.fillna(\"\", inplace=True)"
   ]
  },
  {
   "cell_type": "code",
   "execution_count": null,
   "metadata": {},
   "outputs": [],
   "source": [
    "# filter all words from Source1 (choose strictly fit or contain)\n",
    "test1 = df_dps['POS'] == \"masc\"\n",
    "# test1 = df_dps['Source1'].str.contains(sutta)\n",
    "filter = test1\n",
    "df1 = df_dps.loc[filter]\n",
    "# filter all words from Source1 (choose strictly fit or contain)\n",
    "test2 = df_dps['POS'] == \"fem\"\n",
    "# test1 = df_dps['Source1'].str.contains(sutta)\n",
    "filter = test2\n",
    "df2 = df_dps.loc[filter]\n",
    "# filter all words from Source1 (choose strictly fit or contain)\n",
    "test3 = df_dps['POS'] == \"nt\"\n",
    "# test1 = df_dps['Source1'].str.contains(sutta)\n",
    "filter = test3\n",
    "df3 = df_dps.loc[filter]\n",
    "\n",
    "df12 = df1.append(df2)\n",
    "df123 = df12.append(df3)\n"
   ]
  },
  {
   "cell_type": "code",
   "execution_count": null,
   "metadata": {},
   "outputs": [],
   "source": [
    "df123['Pāli1'] = df123['Pāli1'].str.replace('\\d+', '')\n",
    "df123['Pāli1'] = df123['Pāli1'].str.replace(' ', '')"
   ]
  },
  {
   "cell_type": "code",
   "execution_count": null,
   "metadata": {},
   "outputs": [],
   "source": [
    "# making data frame from csv file\n",
    "# data = pd.read_csv(\"employees.csv\")\n",
    "\n",
    "# sorting by first name\n",
    "df123.sort_values(\"Pāli1\", inplace = True)\n",
    "\n",
    "# dropping ALL duplicate values\n",
    "df123.drop_duplicates(subset =\"Pāli1\", keep = \"first\", inplace = True)\n",
    "\n",
    "# displaying data\n",
    "df123"
   ]
  },
  {
   "cell_type": "code",
   "execution_count": null,
   "metadata": {},
   "outputs": [],
   "source": [
    "# save csv\n",
    "df123.to_csv(f\"/home/deva/Documents/dps/spreadsheets/dps_nodupl.csv\", sep=\"\\t\", index=None)"
   ]
  }
 ],
 "metadata": {
  "interpreter": {
   "hash": "8a94588eda9d64d9e9a351ab8144e55b1fabf5113b54e67dd26a8c27df0381b3"
  },
  "kernelspec": {
   "display_name": "Python 3 (ipykernel)",
   "language": "python",
   "name": "python3"
  },
  "language_info": {
   "codemirror_mode": {
    "name": "ipython",
    "version": 3
   },
   "file_extension": ".py",
   "mimetype": "text/x-python",
   "name": "python",
   "nbconvert_exporter": "python",
   "pygments_lexer": "ipython3",
   "version": "3.10.2"
  }
 },
 "nbformat": 4,
 "nbformat_minor": 2
}
